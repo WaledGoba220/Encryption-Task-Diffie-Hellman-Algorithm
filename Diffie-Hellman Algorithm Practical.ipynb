{
 "cells": [
  {
   "cell_type": "markdown",
   "id": "35bfaf9c",
   "metadata": {},
   "source": [
    "# <div style=\"color:#fff;display:fill;border-radius:10px;background-color:#004F98;text-align:center;letter-spacing:0.1px;overflow:hidden;padding:20px;color:white;overflow:hidden;margin:0;font-size:100%\">Diffie-Hellman Algorithm Practical</div>"
   ]
  },
  {
   "cell_type": "markdown",
   "id": "a15f68a9",
   "metadata": {},
   "source": [
    "### G ==> Global Key\n",
    ">Prime\n",
    "\n",
    ">Generator\n",
    "\n",
    "### P ==> private Key\n",
    "\n",
    "\n",
    "### public key = generator pow(private) mod prime"
   ]
  },
  {
   "cell_type": "code",
   "execution_count": 6,
   "id": "d38c1db8",
   "metadata": {},
   "outputs": [
    {
     "name": "stdout",
     "output_type": "stream",
     "text": [
      "Enter P : 8\n",
      "Number Is Not Prime, Please Enter Again!\n",
      "Enter P : 9\n",
      "Enter The Primitive Root Of 9 : 1\n",
      "Enter The Private Key Of User 1 : 3\n",
      "Enter The Private Key Of User 2 : 7\n",
      "\n",
      "Secret Key For User 1 Is 1\n",
      "Secret Key For User 2 Is 1\n",
      "\n",
      "Keys Have Been Exchanged Successfully\n"
     ]
    }
   ],
   "source": [
    "# Diffie-Hellman Code\n",
    "import math\n",
    "\n",
    "def prime_checker(p):\n",
    "\t# Checks If the number entered is a Prime Number or not\n",
    "\tif p < 1:\n",
    "\t\treturn -1\n",
    "\telif p > 1:\n",
    "\t\tif p == 2:\n",
    "\t\t\treturn 1\n",
    "\t\tfor i in range(2, p):\n",
    "\t\t\tif p % i == 0:\n",
    "\t\t\t\treturn -1\n",
    "\t\t\treturn 1\n",
    "\n",
    "\n",
    "def primitive_check(g, p):\n",
    "\t# Checks If The Entered Number Is A Primitive Root Or Not\n",
    "\tif math.gcd(g,p) == 1 :\n",
    "\t\t\treturn 1\n",
    "\treturn -1\n",
    "\n",
    "## ==> Get prime Number if else reback again\n",
    "while 1:\n",
    "\tP = int(input(\"Enter P : \"))\n",
    "\tif prime_checker(P) == -1:\n",
    "\t\tprint(\"Number Is Not Prime, Please Enter Again!\")\n",
    "\t\tcontinue\n",
    "\tbreak\n",
    "\n",
    "    ## ==> Give the Primitive root of number p\n",
    "while 1:\n",
    "\tG = int(input(f\"Enter The Primitive Root Of {P} : \"))\n",
    "\tif primitive_check(G, P) == -1:\n",
    "\t\tprint(f\"Number Is Not A Primitive Root Of {P}, Please Try Again!\")\n",
    "\t\tcontinue\n",
    "\tbreak\n",
    "\n",
    "## ==> Private Keys\n",
    "x1, x2 = int(input(\"Enter The Private Key Of User 1 : \")), int(\n",
    "\tinput(\"Enter The Private Key Of User 2 : \"))\n",
    "while 1:\n",
    "\tif x1 >= P or x2 >= P:\n",
    "\t\tprint(f\"Private Key Of Both The Users Should Be Less Than {P}!\")\n",
    "\t\tcontinue\n",
    "\tbreak\n",
    "\n",
    "# Calculate Public Keys\n",
    "y1, y2 = pow(G, x1) % P, pow(G, x2) % P\n",
    "\n",
    "# Generate Secret Keys\n",
    "k1, k2 = pow(y2, x1) % P, pow(y1, x2) % P\n",
    "\n",
    "print(f\"\\nSecret Key For User 1 Is {k1}\\nSecret Key For User 2 Is {k2}\\n\")\n",
    "\n",
    "if k1 == k2:\n",
    "\tprint(\"Keys Have Been Exchanged Successfully\")\n",
    "else:\n",
    "\tprint(\"Keys Have Not Been Exchanged Successfully\")"
   ]
  },
  {
   "cell_type": "code",
   "execution_count": null,
   "id": "045b44b5",
   "metadata": {},
   "outputs": [],
   "source": []
  }
 ],
 "metadata": {
  "kernelspec": {
   "display_name": "Python 3 (ipykernel)",
   "language": "python",
   "name": "python3"
  },
  "language_info": {
   "codemirror_mode": {
    "name": "ipython",
    "version": 3
   },
   "file_extension": ".py",
   "mimetype": "text/x-python",
   "name": "python",
   "nbconvert_exporter": "python",
   "pygments_lexer": "ipython3",
   "version": "3.9.12"
  }
 },
 "nbformat": 4,
 "nbformat_minor": 5
}
